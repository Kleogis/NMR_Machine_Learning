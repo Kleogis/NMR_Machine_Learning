{
  "nbformat": 4,
  "nbformat_minor": 0,
  "metadata": {
    "colab": {
      "name": "NMR_Machine_Learning.ipynb",
      "provenance": [],
      "collapsed_sections": []
    },
    "kernelspec": {
      "name": "python3",
      "display_name": "Python 3"
    }
  },
  "cells": [
    {
      "cell_type": "code",
      "metadata": {
        "id": "OkmaqoPwJvyf",
        "colab": {
          "base_uri": "https://localhost:8080/"
        },
        "outputId": "2d0578d3-fc5d-49a6-f5b8-5caa7d3fff90"
      },
      "source": [
        "from google.colab import drive\n",
        "drive.mount('/content/gdrive')"
      ],
      "execution_count": null,
      "outputs": [
        {
          "output_type": "stream",
          "text": [
            "Mounted at /content/gdrive\n"
          ],
          "name": "stdout"
        }
      ]
    },
    {
      "cell_type": "code",
      "metadata": {
        "id": "4wI-EA_raiVK"
      },
      "source": [
        "import os\n",
        "os.chdir('/content/gdrive/My Drive/champs-scalar-coupling')\n",
        "!ls"
      ],
      "execution_count": null,
      "outputs": []
    }
  ]
}